{
 "cells": [
  {
   "cell_type": "code",
   "execution_count": null,
   "metadata": {
    "ExecuteTime": {
     "start_time": "2021-04-10T20:17:44.072Z"
    }
   },
   "outputs": [],
   "source": [
    "import sys, os, re\n",
    "from glob import glob\n",
    "from copy import deepcopy\n",
    "sys.path.append('../BPhysics/lib')\n",
    "\n",
    "import ROOT as rt\n",
    "import numpy as np"
   ]
  },
  {
   "cell_type": "code",
   "execution_count": null,
   "metadata": {
    "ExecuteTime": {
     "start_time": "2021-04-10T20:17:44.074Z"
    }
   },
   "outputs": [],
   "source": [
    "import CMS_lumi, tdrstyle\n",
    "tdrstyle.setTDRStyle()\n",
    "CMS_lumi.writeExtraText = 1\n",
    "CMS_lumi.extraText = 6*' ' + ' Internal'\n",
    "\n",
    "from analysis_utilities import drawOnCMSCanvas\n",
    "from histo_utilities import create_TH1D, std_color_list, SetMaxToMaxHist, make_ratio_plot"
   ]
  },
  {
   "cell_type": "markdown",
   "metadata": {},
   "source": [
    "# Get pileup histograms"
   ]
  },
  {
   "cell_type": "code",
   "execution_count": null,
   "metadata": {
    "ExecuteTime": {
     "start_time": "2021-04-10T20:17:44.075Z"
    }
   },
   "outputs": [],
   "source": [
    "triggers = ['Mu7_IP4', 'Mu9_IP6', 'Mu12_IP6']\n",
    "parts = [1,2,3,4,5]"
   ]
  },
  {
   "cell_type": "code",
   "execution_count": null,
   "metadata": {
    "ExecuteTime": {
     "start_time": "2021-04-10T20:17:44.076Z"
    }
   },
   "outputs": [],
   "source": [
    "hPU = {}\n",
    "auxFiles = []\n",
    "for trg in triggers:\n",
    "    hPU[trg] = []\n",
    "    for p in parts:\n",
    "        f = rt.TFile.Open('pileupHistos/pileupHisto_{}_part{}.root'.format(trg, p), 'READ')\n",
    "        auxFiles.append(f)\n",
    "        h = f.Get('pileup')\n",
    "        hPU[trg].append(h.Clone('h_'+trg+'_'+str(p)))"
   ]
  },
  {
   "cell_type": "markdown",
   "metadata": {},
   "source": [
    "# Compare different parts"
   ]
  },
  {
   "cell_type": "code",
   "execution_count": null,
   "metadata": {
    "ExecuteTime": {
     "start_time": "2021-04-10T20:17:44.078Z"
    }
   },
   "outputs": [],
   "source": [
    "cOut = []\n",
    "\n",
    "for trg in triggers:\n",
    "    hList = deepcopy(hPU[trg])\n",
    "    \n",
    "    leg = rt.TLegend(0.7, 0.7, 0.9, 0.9)\n",
    "    leg.SetTextFont(42)\n",
    "    leg.SetTextAlign(12)\n",
    "    leg.SetLineWidth(0)\n",
    "    leg.SetBorderSize(0)\n",
    "    \n",
    "    # Recolor\n",
    "    for i, (h, c) in enumerate(zip(hList, std_color_list)):\n",
    "        h.SetLineColor(c)\n",
    "        h.SetMarkerColor(c)\n",
    "        h.Scale(1./h.Integral())\n",
    "        leg.AddEntry(h, trg+'_part'+str(i), 'lep')\n",
    "        \n",
    "    hList[0].GetXaxis().SetTitle('Number of interactions')\n",
    "    c = drawOnCMSCanvas(CMS_lumi, hList, 'same', tag=trg)\n",
    "    leg.Draw()\n",
    "    cOut.append(c)"
   ]
  },
  {
   "cell_type": "markdown",
   "metadata": {
    "ExecuteTime": {
     "end_time": "2021-04-10T03:08:47.985658Z",
     "start_time": "2021-04-10T03:08:47.970100Z"
    }
   },
   "source": [
    "# Create total pileup spectrum"
   ]
  },
  {
   "cell_type": "code",
   "execution_count": null,
   "metadata": {
    "ExecuteTime": {
     "start_time": "2021-04-10T20:17:44.080Z"
    }
   },
   "outputs": [],
   "source": [
    "expectedEvents ={'Mu7_IP4': 254., 'Mu9_IP6':631., 'Mu12_IP6':1012.}\n",
    "\n",
    "tot = np.sum(expectedEvents.values())\n",
    "for k in expectedEvents.keys():\n",
    "    expectedEvents[k] /= float(tot)\n",
    "    \n",
    "print expectedEvents"
   ]
  },
  {
   "cell_type": "code",
   "execution_count": null,
   "metadata": {
    "ExecuteTime": {
     "start_time": "2021-04-10T20:17:44.081Z"
    }
   },
   "outputs": [],
   "source": [
    "hTot = {}\n",
    "\n",
    "hs = rt.THStack('hStack','hStack')\n",
    "\n",
    "leg = rt.TLegend(0.6, 0.3, 0.93, 0.9)\n",
    "leg.SetTextFont(42)\n",
    "leg.SetTextAlign(12)\n",
    "leg.SetLineWidth(0)\n",
    "leg.SetBorderSize(0)\n",
    "\n",
    "for i, trg in enumerate(triggers):\n",
    "    hTrg = hPU[trg][0].Clone('h_'+trg)\n",
    "    for h in hPU[trg][1:]:\n",
    "        hTrg.Add(h)\n",
    "    hTrg.Scale(expectedEvents[trg]/hTrg.Integral())\n",
    "    hTrg.Sumw2(0)\n",
    "    hTrg.SetLineColor(std_color_list[i])\n",
    "    fAuxTrg = rt.TFile.Open('pileupHistos/'+trg+'_allParts.root', 'RECREATE')\n",
    "    auxFiles.append(fAuxTrg)\n",
    "    hTrg.Write()\n",
    "    hTrg.SetFillColor(std_color_list[i])\n",
    "    \n",
    "    leg.AddEntry(hTrg, trg, 'f')\n",
    "    \n",
    "    hTot[trg] = hTrg\n",
    "    \n",
    "    hs.Add(hTrg)"
   ]
  },
  {
   "cell_type": "code",
   "execution_count": null,
   "metadata": {
    "ExecuteTime": {
     "start_time": "2021-04-10T20:17:44.082Z"
    }
   },
   "outputs": [],
   "source": [
    "f_c0 = rt.TFile.Open('otherPileupHistos/histoPileup_c0.root', 'READ')\n",
    "auxFiles.append(f_c0)\n",
    "h_c0 = f_c0.Get('h')\n",
    "\n",
    "h_c0.SetLineWidth(2)\n",
    "\n",
    "h_c0.SetLineColor(std_color_list[len(triggers)])\n",
    "h_c0.Scale(1./h_c0.Integral())\n",
    "h_c0.Sumw2(0)\n",
    "\n",
    "leg.AddEntry(h_c0, 'Custom c0 (pre-approval)', 'l')"
   ]
  },
  {
   "cell_type": "code",
   "execution_count": null,
   "metadata": {
    "ExecuteTime": {
     "start_time": "2021-04-10T20:17:44.084Z"
    }
   },
   "outputs": [],
   "source": [
    "f_full2018 = rt.TFile.Open('otherPileupHistos/pileup_2018_fromRiccardoManzoni_210409.root', 'READ')\n",
    "auxFiles.append(f_full2018)\n",
    "h_full2018 = f_full2018.Get('pileup_2018total')\n",
    "\n",
    "h_full2018.SetLineWidth(2)\n",
    "\n",
    "h_full2018.SetLineColor(std_color_list[len(triggers)+4])\n",
    "h_full2018.Scale(1./h_full2018.Integral())\n",
    "h_full2018.Sumw2(0)\n",
    "\n",
    "leg.AddEntry(h_full2018, 'Total 2018 parking data', 'l')"
   ]
  },
  {
   "cell_type": "code",
   "execution_count": null,
   "metadata": {
    "ExecuteTime": {
     "start_time": "2021-04-10T20:17:44.085Z"
    }
   },
   "outputs": [],
   "source": [
    "hPo20 = create_TH1D(np.random.poisson(lam=20, size=100000),\n",
    "                    'hPU20',\n",
    "                    h2clone=h_c0,\n",
    "                    scale_histo='norm')\n",
    "\n",
    "hPo20.SetLineColor(std_color_list[len(triggers) + 1])\n",
    "hPo20.Sumw2(0)\n",
    "hPo20.GetXaxis().SetTitle('Number of interactions')\n",
    "\n",
    "leg.AddEntry(hPo20, 'Poisson #lambda=20', 'l')"
   ]
  },
  {
   "cell_type": "code",
   "execution_count": null,
   "metadata": {
    "ExecuteTime": {
     "start_time": "2021-04-10T20:17:44.086Z"
    }
   },
   "outputs": [],
   "source": [
    "hPo30 = create_TH1D(np.random.poisson(lam=30, size=100000),\n",
    "                    'hPU30',\n",
    "                    h2clone=h_c0,\n",
    "                    scale_histo='norm')\n",
    "\n",
    "hPo30.SetLineColor(std_color_list[len(triggers) + 3])\n",
    "hPo30.Sumw2(0)\n",
    "\n",
    "leg.AddEntry(hPo30, 'Poisson #lambda=30', 'l')"
   ]
  },
  {
   "cell_type": "code",
   "execution_count": null,
   "metadata": {
    "ExecuteTime": {
     "start_time": "2021-04-10T20:17:44.087Z"
    }
   },
   "outputs": [],
   "source": [
    "hList = hTot.values()\n",
    "hFinal = hList[0].Clone('pileup')\n",
    "for h in hList[1:]:\n",
    "    hFinal.Add(h)\n",
    "    \n",
    "hFinal.SetLineColor(1)\n",
    "hFinal.SetLineWidth(2)\n",
    "hFinal.SetFillStyle(0)\n",
    "leg.AddEntry(hFinal, 'Optimal for R(D*) analysis', 'l')\n",
    "    \n",
    "fOut = rt.TFile.Open('pileupHistos/pileupWeightedSum.root', 'RECREATE')\n",
    "hFinal.Write()\n",
    "fOut.Close()"
   ]
  },
  {
   "cell_type": "code",
   "execution_count": null,
   "metadata": {
    "ExecuteTime": {
     "start_time": "2021-04-10T20:17:44.089Z"
    }
   },
   "outputs": [],
   "source": [
    "c = rt.TCanvas('c', 'c', 50, 50, 800, 600)\n",
    "c.SetTickx(0)\n",
    "c.SetTicky(0)\n",
    "\n",
    "hPo20.Draw()\n",
    "\n",
    "hs.Draw('same')\n",
    "hs.GetXaxis().SetTitle('Number of interactions')\n",
    "hs.GetYaxis().SetRangeUser(0, 1.)\n",
    "\n",
    "h_c0.Draw('same')\n",
    "hPo30.Draw('same')\n",
    "\n",
    "h_full2018.Draw('same')\n",
    "hFinal.Draw('same')\n",
    "\n",
    "leg.Draw()\n",
    "\n",
    "CMS_lumi.CMS_lumi(c, -1, 0)\n",
    "c.Draw()\n",
    "c.SaveAs('pileupSummaryComparison.png')"
   ]
  },
  {
   "cell_type": "code",
   "execution_count": null,
   "metadata": {
    "ExecuteTime": {
     "start_time": "2021-04-10T20:17:44.090Z"
    }
   },
   "outputs": [],
   "source": [
    "std_color_list"
   ]
  },
  {
   "cell_type": "code",
   "execution_count": null,
   "metadata": {},
   "outputs": [],
   "source": []
  }
 ],
 "metadata": {
  "kernelspec": {
   "display_name": "Python 2",
   "language": "python",
   "name": "python2"
  },
  "language_info": {
   "codemirror_mode": {
    "name": "ipython",
    "version": 2
   },
   "file_extension": ".py",
   "mimetype": "text/x-python",
   "name": "python",
   "nbconvert_exporter": "python",
   "pygments_lexer": "ipython2",
   "version": "2.7.14+"
  },
  "varInspector": {
   "cols": {
    "lenName": 16,
    "lenType": 16,
    "lenVar": 40
   },
   "kernels_config": {
    "python": {
     "delete_cmd_postfix": "",
     "delete_cmd_prefix": "del ",
     "library": "var_list.py",
     "varRefreshCmd": "print(var_dic_list())"
    },
    "r": {
     "delete_cmd_postfix": ") ",
     "delete_cmd_prefix": "rm(",
     "library": "var_list.r",
     "varRefreshCmd": "cat(var_dic_list()) "
    }
   },
   "types_to_exclude": [
    "module",
    "function",
    "builtin_function_or_method",
    "instance",
    "_Feature"
   ],
   "window_display": false
  }
 },
 "nbformat": 4,
 "nbformat_minor": 2
}
